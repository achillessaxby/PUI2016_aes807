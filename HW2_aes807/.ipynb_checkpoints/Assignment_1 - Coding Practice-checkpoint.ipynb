{
 "cells": [
  {
   "cell_type": "markdown",
   "metadata": {},
   "source": [
    "Write a Python script (not a notebook this time, so that you can experiment with writing code that takes line inputs) to retrieve and report information about active vehicle for a bus line.\n",
    "\n",
    "The final hand-in should be a single Python file, named show_bus_locations_<netID>.py that takes exactly 2 arguments."
   ]
  },
  {
   "cell_type": "code",
   "execution_count": 2,
   "metadata": {
    "collapsed": false
   },
   "outputs": [
    {
     "name": "stdout",
     "output_type": "stream",
     "text": [
      "Populating the interactive namespace from numpy and matplotlib\n"
     ]
    }
   ],
   "source": [
    "# Importing things to start off the access into the MTA directory\n",
    "# Key Belongs to Achilles Edwin Alfred Saxby in this code\n",
    "# Code taken from the instructors laboratory assignment\n",
    "\n",
    "from __future__ import print_function\n",
    "import sys\n",
    "import pylab as pl\n",
    "import json\n",
    "import urllib as ulr\n",
    "import os\n",
    "%pylab inline\n",
    "\n",
    "url = \"http://bustime.mta.info/api/siri/vehicle-monitoring.json?key=d8d68556-185c-4f43-baae-769b0cc954c6&VehicleMonitoringDetailLevel=calls&LineRef=B54\" \n",
    "\n",
    "response = ulr.urlopen(url)\n",
    "data = response.read().decode(\"utf-8\")\n",
    "data = json.loads(data)"
   ]
  },
  {
   "cell_type": "code",
   "execution_count": 3,
   "metadata": {
    "collapsed": false
   },
   "outputs": [
    {
     "data": {
      "text/plain": [
       "{u'Latitude': 40.698145, u'Longitude': -73.924735}"
      ]
     },
     "execution_count": 3,
     "metadata": {},
     "output_type": "execute_result"
    }
   ],
   "source": [
    "data['Siri']['ServiceDelivery']['VehicleMonitoringDelivery'][0]['VehicleActivity'][1]['MonitoredVehicleJourney']['VehicleLocation']"
   ]
  },
  {
   "cell_type": "code",
   "execution_count": 4,
   "metadata": {
    "collapsed": false
   },
   "outputs": [
    {
     "data": {
      "text/plain": [
       "5"
      ]
     },
     "execution_count": 4,
     "metadata": {},
     "output_type": "execute_result"
    }
   ],
   "source": [
    "len(data['Siri']['ServiceDelivery']['VehicleMonitoringDelivery'][0]['VehicleActivity'])"
   ]
  },
  {
   "cell_type": "code",
   "execution_count": 6,
   "metadata": {
    "collapsed": false
   },
   "outputs": [
    {
     "name": "stdout",
     "output_type": "stream",
     "text": [
      "Bus Line: -f\n",
      "Number of Active Buses: 5.000000\n",
      "Bus 0 is at the latitude -73.924955 and at the longitude 40.698123\n",
      "Bus 1 is at the latitude -73.924735 and at the longitude 40.698145\n",
      "Bus 2 is at the latitude -73.921719 and at the longitude 40.698455\n",
      "Bus 3 is at the latitude -73.920586 and at the longitude 40.698574\n",
      "Bus 4 is at the latitude -73.984393 and at the longitude 40.695579\n"
     ]
    }
   ],
   "source": [
    "i = 0\n",
    "\n",
    "totalData = data['Siri']['ServiceDelivery']['VehicleMonitoringDelivery'][0]['VehicleActivity']\n",
    "\n",
    "print (\"Bus Line: %s\" %sys.argv[1]) #This will work if the code is run from the terminal\n",
    "print (\"Number of Active Buses: %f\" %(len(totalData)))\n",
    "\n",
    "for total in totalData:\n",
    "    longitude = totalData[i]['MonitoredVehicleJourney']['VehicleLocation']['Longitude']\n",
    "    latitude = totalData[i]['MonitoredVehicleJourney']['VehicleLocation']['Latitude']\n",
    "    print (\"Bus %d is at the latitude %f and at the longitude %f\" %(i,longitude,latitude))\n",
    "    i += 1"
   ]
  },
  {
   "cell_type": "code",
   "execution_count": null,
   "metadata": {
    "collapsed": true
   },
   "outputs": [],
   "source": []
  }
 ],
 "metadata": {
  "kernelspec": {
   "display_name": "PUI2016_Python2",
   "language": "python",
   "name": "pui2016_python2"
  },
  "language_info": {
   "codemirror_mode": {
    "name": "ipython",
    "version": 2
   },
   "file_extension": ".py",
   "mimetype": "text/x-python",
   "name": "python",
   "nbconvert_exporter": "python",
   "pygments_lexer": "ipython2",
   "version": "2.7.12"
  }
 },
 "nbformat": 4,
 "nbformat_minor": 0
}
