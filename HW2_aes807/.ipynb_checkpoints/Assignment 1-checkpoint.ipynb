{
 "cells": [
  {
   "cell_type": "code",
   "execution_count": 37,
   "metadata": {
    "collapsed": false
   },
   "outputs": [
    {
     "name": "stdout",
     "output_type": "stream",
     "text": [
      "Populating the interactive namespace from numpy and matplotlib\n"
     ]
    }
   ],
   "source": [
    "# Importing things to start off the access into the MTA directory\n",
    "# Key Belongs to Achilles Edwin Alfred Saxby in this code\n",
    "# Code taken from the instructors laboratory assignment\n",
    "\n",
    "from __future__ import print_function\n",
    "import sys\n",
    "import pylab as pl\n",
    "import json\n",
    "import urllib as ulr\n",
    "import os\n",
    "%pylab inline\n",
    "\n",
    "url = \"http://bustime.mta.info/api/siri/vehicle-monitoring.json?key=d8d68556-185c-4f43-baae-769b0cc954c6&VehicleMonitoringDetailLevel=calls&LineRef=B54\" \n",
    "\n",
    "response = ulr.urlopen(url)\n",
    "data = response.read().decode(\"utf-8\")\n",
    "data = json.loads(data)"
   ]
  },
  {
   "cell_type": "code",
   "execution_count": 30,
   "metadata": {
    "collapsed": false
   },
   "outputs": [
    {
     "data": {
      "text/plain": [
       "{u'Latitude': 40.693151, u'Longitude': -73.968521}"
      ]
     },
     "execution_count": 30,
     "metadata": {},
     "output_type": "execute_result"
    }
   ],
   "source": [
    "data['Siri']['ServiceDelivery']['VehicleMonitoringDelivery'][0]['VehicleActivity'][1]['MonitoredVehicleJourney']['VehicleLocation']"
   ]
  },
  {
   "cell_type": "code",
   "execution_count": 38,
   "metadata": {
    "collapsed": false
   },
   "outputs": [
    {
     "data": {
      "text/plain": [
       "14"
      ]
     },
     "execution_count": 38,
     "metadata": {},
     "output_type": "execute_result"
    }
   ],
   "source": [
    "len(data['Siri']['ServiceDelivery']['VehicleMonitoringDelivery'][0]['VehicleActivity'])"
   ]
  },
  {
   "cell_type": "code",
   "execution_count": 41,
   "metadata": {
    "collapsed": false
   },
   "outputs": [
    {
     "name": "stdout",
     "output_type": "stream",
     "text": [
      "Bus Line: -f\n",
      "The number of buses active: 14.000000\n",
      "Bus 0 is at the latitude -73.910171 and at the longitude 40.700381\n",
      "Bus 1 is at the latitude -73.943178 and at the longitude 40.696070\n",
      "Bus 2 is at the latitude -73.954529 and at the longitude 40.694765\n",
      "Bus 3 is at the latitude -73.949619 and at the longitude 40.695329\n",
      "Bus 4 is at the latitude -73.969554 and at the longitude 40.693122\n",
      "Bus 5 is at the latitude -73.969649 and at the longitude 40.693125\n",
      "Bus 6 is at the latitude -73.932035 and at the longitude 40.697340\n",
      "Bus 7 is at the latitude -73.947243 and at the longitude 40.695603\n",
      "Bus 8 is at the latitude -73.976181 and at the longitude 40.693372\n",
      "Bus 9 is at the latitude -73.987133 and at the longitude 40.695575\n",
      "Bus 10 is at the latitude -73.917044 and at the longitude 40.698942\n",
      "Bus 11 is at the latitude -73.930269 and at the longitude 40.697535\n",
      "Bus 12 is at the latitude -73.922553 and at the longitude 40.698370\n",
      "Bus 13 is at the latitude -73.933279 and at the longitude 40.697197\n"
     ]
    }
   ],
   "source": [
    "i = 0\n",
    "\n",
    "print (\"Bus Line: %s\" %sys.argv[1]) #This will work if the code is run from the terminal\n",
    "print (\"The number of buses active: %f\" %(len(totalData)))\n",
    "\n",
    "totalData = data['Siri']['ServiceDelivery']['VehicleMonitoringDelivery'][0]['VehicleActivity']\n",
    "\n",
    "for total in totalData:\n",
    "    longitude = totalData[i]['MonitoredVehicleJourney']['VehicleLocation']['Longitude']\n",
    "    latitude = totalData[i]['MonitoredVehicleJourney']['VehicleLocation']['Latitude']\n",
    "    print (\"Bus %d is at the latitude %f and at the longitude %f\" %(i,longitude,latitude))\n",
    "    i += 1"
   ]
  },
  {
   "cell_type": "code",
   "execution_count": null,
   "metadata": {
    "collapsed": true
   },
   "outputs": [],
   "source": []
  }
 ],
 "metadata": {
  "kernelspec": {
   "display_name": "PUI2016_Python2",
   "language": "python",
   "name": "pui2016_python2"
  },
  "language_info": {
   "codemirror_mode": {
    "name": "ipython",
    "version": 2
   },
   "file_extension": ".py",
   "mimetype": "text/x-python",
   "name": "python",
   "nbconvert_exporter": "python",
   "pygments_lexer": "ipython2",
   "version": "2.7.12"
  }
 },
 "nbformat": 4,
 "nbformat_minor": 0
}
