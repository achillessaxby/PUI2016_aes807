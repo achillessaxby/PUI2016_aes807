{
 "cells": [
  {
   "cell_type": "code",
   "execution_count": 74,
   "metadata": {
    "collapsed": false
   },
   "outputs": [
    {
     "name": "stdout",
     "output_type": "stream",
     "text": [
      "Populating the interactive namespace from numpy and matplotlib\n"
     ]
    }
   ],
   "source": [
    "# Importing things to start off the access into the MTA directory\n",
    "# Key Belongs to Achilles Edwin Alfred Saxby in this code\n",
    "# Code taken from the instructors laboratory assignment\n",
    "\n",
    "from __future__ import print_function\n",
    "import sys\n",
    "import csv\n",
    "import pylab as pl\n",
    "import json\n",
    "import urllib as ulr\n",
    "import os\n",
    "# %pylab inline\n",
    "\n",
    "url = \"http://bustime.mta.info/api/siri/vehicle-monitoring.json?key=d8d68556-185c-4f43-baae-769b0cc954c6&VehicleMonitoringDetailLevel=calls&LineRef=B44\" \n",
    "\n",
    "response = ulr.urlopen(url)\n",
    "data = response.read().decode(\"utf-8\")\n",
    "data = json.loads(data)"
   ]
  },
  {
   "cell_type": "code",
   "execution_count": 68,
   "metadata": {
    "collapsed": false
   },
   "outputs": [
    {
     "data": {
      "text/plain": [
       "{u'Latitude': 40.693499, u'Longitude': -73.97944}"
      ]
     },
     "execution_count": 68,
     "metadata": {},
     "output_type": "execute_result"
    }
   ],
   "source": [
    "data['Siri']['ServiceDelivery']['VehicleMonitoringDelivery'][0]['VehicleActivity'][1]['MonitoredVehicleJourney']['VehicleLocation']"
   ]
  },
  {
   "cell_type": "code",
   "execution_count": 69,
   "metadata": {
    "collapsed": false
   },
   "outputs": [
    {
     "data": {
      "text/plain": [
       "u'MYRTLE AV/WILSON AV'"
      ]
     },
     "execution_count": 69,
     "metadata": {},
     "output_type": "execute_result"
    }
   ],
   "source": [
    "data['Siri']['ServiceDelivery']['VehicleMonitoringDelivery'][0]['VehicleActivity'][0]['MonitoredVehicleJourney']['OnwardCalls']['OnwardCall'][0]['StopPointName']"
   ]
  },
  {
   "cell_type": "code",
   "execution_count": 70,
   "metadata": {
    "collapsed": false
   },
   "outputs": [
    {
     "data": {
      "text/plain": [
       "u'at stop'"
      ]
     },
     "execution_count": 70,
     "metadata": {},
     "output_type": "execute_result"
    }
   ],
   "source": [
    "data['Siri']['ServiceDelivery']['VehicleMonitoringDelivery'][0]['VehicleActivity'][0]['MonitoredVehicleJourney']['OnwardCalls']['OnwardCall'][0]['Extensions']['Distances']['PresentableDistance']"
   ]
  },
  {
   "cell_type": "code",
   "execution_count": 77,
   "metadata": {
    "collapsed": false
   },
   "outputs": [
    {
     "name": "stdout",
     "output_type": "stream",
     "text": [
      "Bus Line: -f\n",
      "The number of buses active: 15.000000\n",
      "latitude 40.689307,longitude -73.955094,BEDFORD AV/LAFAYETTE AV,at stop\n",
      "latitude 40.675783,longitude -73.947160,NEW YORK AV/BERGEN ST,at stop\n",
      "latitude 40.691492,longitude -73.951789,NOSTRAND AV/DE KALB AV,at stop\n",
      "latitude 40.655134,longitude -73.950035,NOSTRAND AV/CLARKSON AV,at stop\n",
      "latitude 40.663683,longitude -73.950952,NOSTRAND AV/EMPIRE BL,at stop\n",
      "latitude 40.600778,longitude -73.941957,NOSTRAND AV/AV U,at stop\n",
      "latitude 40.593683,longitude -73.940506,NOSTRAND AV/AV X,approaching\n",
      "latitude 40.698874,longitude -73.957000,N/A,N/A\n",
      "latitude 40.698874,longitude -73.957000,NOSTRAND AV/AV X,approaching\n",
      "latitude 40.638551,longitude -73.945348,NEW YORK AV/FOSTER AV,approaching\n",
      "latitude 40.662683,longitude -73.950846,NOSTRAND AV/LEFFERTS AV,approaching\n",
      "latitude 40.688482,longitude -73.954932,BEDFORD AV/LAFAYETTE AV,approaching\n",
      "latitude 40.674894,longitude -73.947244,NEW YORK AV/BERGEN ST,approaching\n",
      "latitude 40.666506,longitude -73.950815,NOSTRAND AV/MONTGOMERY ST,approaching\n",
      "latitude 40.624984,longitude -73.946535,NOSTRAND AV/AV J,< 1 stop away\n",
      "latitude 40.669104,longitude -73.950572,NOSTRAND AV/CARROLL ST,< 1 stop away\n"
     ]
    }
   ],
   "source": [
    "i = 0\n",
    "\n",
    "totalData = data['Siri']['ServiceDelivery']['VehicleMonitoringDelivery'][0]['VehicleActivity']\n",
    "\n",
    "print (\"Bus Line: %s\" %sys.argv[1]) #This will work if the code is run from the terminal\n",
    "print (\"The number of buses active: %f\" %(len(totalData)))\n",
    "\n",
    "for total in totalData:\n",
    "    longitude = totalData[i]['MonitoredVehicleJourney']['VehicleLocation']['Longitude']\n",
    "    latitude = totalData[i]['MonitoredVehicleJourney']['VehicleLocation']['Latitude']\n",
    "    \n",
    "    if (totalData[i]['MonitoredVehicleJourney']['OnwardCalls'] == {}):\n",
    "        print (\"latitude %f,longitude %f,N/A,N/A\" %(latitude,longitude))\n",
    "    \n",
    "    else:\n",
    "        Stop_Name = totalData[i]['MonitoredVehicleJourney']['OnwardCalls']['OnwardCall'][0]['StopPointName']\n",
    "        Stop_Status = totalData[i]['MonitoredVehicleJourney']['OnwardCalls']['OnwardCall'][0]['Extensions']['Distances']['PresentableDistance']\n",
    "    \n",
    "    print (\"latitude %f,longitude %f,%s,%s\" %(latitude,longitude,Stop_Name,Stop_Status))\n",
    "    i += 1"
   ]
  },
  {
   "cell_type": "code",
   "execution_count": 82,
   "metadata": {
    "collapsed": false
   },
   "outputs": [],
   "source": [
    "with open(sys.argv[3].csv, 'wb') as csvfile:\n",
    "    writer = csv.writer(csvfile, delimiter=',')\n",
    "    writer.writerow(['Latitude','Longitude','Stop Name','Stop Status'])\n",
    "    \n",
    "    i = 0\n",
    "    \n",
    "    for total in totalData:\n",
    "        longitude = totalData[i]['MonitoredVehicleJourney']['VehicleLocation']['Longitude']\n",
    "        latitude = totalData[i]['MonitoredVehicleJourney']['VehicleLocation']['Latitude']\n",
    "    \n",
    "        if (totalData[i]['MonitoredVehicleJourney']['OnwardCalls'] == {}):\n",
    "            Stop_Name = 'N/A'\n",
    "            Stop_Status = 'N/A'\n",
    "\n",
    "        else:\n",
    "            Stop_Name = totalData[i]['MonitoredVehicleJourney']['OnwardCalls']['OnwardCall'][0]['StopPointName']\n",
    "            Stop_Status = totalData[i]['MonitoredVehicleJourney']['OnwardCalls']['OnwardCall'][0]['Extensions']['Distances']['PresentableDistance']\n",
    "\n",
    "        writer.writerow([latitude,longitude,Stop_Name,Stop_Status])\n",
    "        i += 1"
   ]
  },
  {
   "cell_type": "code",
   "execution_count": null,
   "metadata": {
    "collapsed": true
   },
   "outputs": [],
   "source": []
  }
 ],
 "metadata": {
  "kernelspec": {
   "display_name": "PUI2016_Python2",
   "language": "python",
   "name": "pui2016_python2"
  },
  "language_info": {
   "codemirror_mode": {
    "name": "ipython",
    "version": 2
   },
   "file_extension": ".py",
   "mimetype": "text/x-python",
   "name": "python",
   "nbconvert_exporter": "python",
   "pygments_lexer": "ipython2",
   "version": "2.7.12"
  }
 },
 "nbformat": 4,
 "nbformat_minor": 0
}
