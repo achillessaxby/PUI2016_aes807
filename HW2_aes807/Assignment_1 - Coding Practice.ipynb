{
 "cells": [
  {
   "cell_type": "code",
   "execution_count": 2,
   "metadata": {
    "collapsed": false
   },
   "outputs": [
    {
     "name": "stdout",
     "output_type": "stream",
     "text": [
      "Populating the interactive namespace from numpy and matplotlib\n"
     ]
    }
   ],
   "source": [
    "# Importing things to start off the access into the MTA directory\n",
    "# Key Belongs to Achilles Edwin Alfred Saxby in this code\n",
    "# Code taken from the instructors laboratory assignment\n",
    "\n",
    "from __future__ import print_function\n",
    "import sys\n",
    "import pylab as pl\n",
    "import json\n",
    "import urllib as ulr\n",
    "import os\n",
    "%pylab inline\n",
    "\n",
    "url = \"http://bustime.mta.info/api/siri/vehicle-monitoring.json?key=d8d68556-185c-4f43-baae-769b0cc954c6&VehicleMonitoringDetailLevel=calls&LineRef=B54\" \n",
    "\n",
    "response = ulr.urlopen(url)\n",
    "data = response.read().decode(\"utf-8\")\n",
    "data = json.loads(data)"
   ]
  },
  {
   "cell_type": "code",
   "execution_count": 3,
   "metadata": {
    "collapsed": false
   },
   "outputs": [
    {
     "data": {
      "text/plain": [
       "{u'Latitude': 40.69777, u'Longitude': -73.928215}"
      ]
     },
     "execution_count": 3,
     "metadata": {},
     "output_type": "execute_result"
    }
   ],
   "source": [
    "data['Siri']['ServiceDelivery']['VehicleMonitoringDelivery'][0]['VehicleActivity'][1]['MonitoredVehicleJourney']['VehicleLocation']"
   ]
  },
  {
   "cell_type": "code",
   "execution_count": 4,
   "metadata": {
    "collapsed": false
   },
   "outputs": [
    {
     "data": {
      "text/plain": [
       "4"
      ]
     },
     "execution_count": 4,
     "metadata": {},
     "output_type": "execute_result"
    }
   ],
   "source": [
    "len(data['Siri']['ServiceDelivery']['VehicleMonitoringDelivery'][0]['VehicleActivity'])"
   ]
  },
  {
   "cell_type": "code",
   "execution_count": 5,
   "metadata": {
    "collapsed": false
   },
   "outputs": [
    {
     "name": "stdout",
     "output_type": "stream",
     "text": [
      "Bus Line: -f\n",
      "Number of Active Buses: 4.000000\n",
      "Bus 0 is at the latitude 40.693341 and at the longitude -73.966871\n",
      "Bus 1 is at the latitude 40.697770 and at the longitude -73.928215\n",
      "Bus 2 is at the latitude 40.694702 and at the longitude -73.955065\n",
      "Bus 3 is at the latitude 40.699943 and at the longitude -73.910619\n"
     ]
    }
   ],
   "source": [
    "i = 0\n",
    "\n",
    "totalData = data['Siri']['ServiceDelivery']['VehicleMonitoringDelivery'][0]['VehicleActivity']\n",
    "\n",
    "print (\"Bus Line: %s\" %sys.argv[1]) #This will work if the code is run from the terminal\n",
    "print (\"Number of Active Buses: %f\" %(len(totalData)))\n",
    "\n",
    "for total in totalData:\n",
    "    longitude = totalData[i]['MonitoredVehicleJourney']['VehicleLocation']['Longitude']\n",
    "    latitude = totalData[i]['MonitoredVehicleJourney']['VehicleLocation']['Latitude']\n",
    "    print (\"Bus %d is at the latitude %f and at the longitude %f\" %(i,latitude,longitude))\n",
    "    i += 1"
   ]
  },
  {
   "cell_type": "code",
   "execution_count": null,
   "metadata": {
    "collapsed": true
   },
   "outputs": [],
   "source": []
  }
 ],
 "metadata": {
  "kernelspec": {
   "display_name": "PUI2016_Python2",
   "language": "python",
   "name": "pui2016_python2"
  },
  "language_info": {
   "codemirror_mode": {
    "name": "ipython",
    "version": 2
   },
   "file_extension": ".py",
   "mimetype": "text/x-python",
   "name": "python",
   "nbconvert_exporter": "python",
   "pygments_lexer": "ipython2",
   "version": "2.7.12"
  }
 },
 "nbformat": 4,
 "nbformat_minor": 0
}
